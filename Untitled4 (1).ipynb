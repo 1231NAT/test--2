{
 "cells": [
  {
   "cell_type": "code",
   "execution_count": 1,
   "id": "79136d8c-483b-4c98-833b-07a7f5495345",
   "metadata": {},
   "outputs": [
    {
     "data": {
      "text/plain": [
       "[2, 4, 6, 8, 10]"
      ]
     },
     "execution_count": 1,
     "metadata": {},
     "output_type": "execute_result"
    }
   ],
   "source": [
    "x = [1, 2, 3, 4, 5, 6, 7, 8, 9, 10]\n",
    "def evenList(x: list[int])-> list[int]:\n",
    "    \"\"\"takes a list of integers and returns a list\n",
    "    with only the even integers\n",
    "\n",
    "    Args:\n",
    "        x (list[int]): list of integers\n",
    "\n",
    "    Returns:\n",
    "        list[int]: list of even integers\n",
    "    \"\"\"\n",
    "    return [i for i in x if i%2==0]\n",
    "evenList(x)"
   ]
  },
  {
   "cell_type": "code",
   "execution_count": 2,
   "id": "eb77087c-98be-49f1-a649-56538b38b837",
   "metadata": {},
   "outputs": [
    {
     "name": "stdout",
     "output_type": "stream",
     "text": [
      "10000000000\n",
      "Execution time:2.002162456512451 seconds\n"
     ]
    }
   ],
   "source": [
    "import time\n",
    "def timer(func):\n",
    "    def timing(*args, **kwargs):\n",
    "        begin = time.time()\n",
    "        func(*args,**kwargs)\n",
    "        end = time.time()\n",
    "        print(f\"Execution time:{end-begin} seconds\")\n",
    "    return timing\n",
    "\n",
    "@timer\n",
    "def my_function(n:int):\n",
    "    time.sleep(2)\n",
    "    print(n**n)\n",
    "\n",
    "my_function(10)"
   ]
  },
  {
   "cell_type": "code",
   "execution_count": 3,
   "id": "a6f44f31-b73b-408c-9912-08fb23f807b5",
   "metadata": {},
   "outputs": [
    {
     "name": "stdout",
     "output_type": "stream",
     "text": [
      "Mean: 20.0\n"
     ]
    }
   ],
   "source": [
    "data = [10, 15, 20, 25, 30]\n",
    "def calculate_mean(data:list[int])->float:\n",
    "    \"\"\"takes a list of integers (data) and returns the mean\n",
    "\n",
    "    Args:\n",
    "        data (list[int]): list of integers\n",
    "\n",
    "    Returns:\n",
    "        float: mean of the data\n",
    "    \"\"\"\n",
    "    total = sum(data)\n",
    "    count = len(data)\n",
    "    mean = total / count\n",
    "    return(mean)\n",
    "mean_value = calculate_mean(data)\n",
    "print(\"Mean:\", mean_value)"
   ]
  },
  {
   "cell_type": "code",
   "execution_count": 4,
   "id": "ffc085a0-f3c4-4b66-aeec-0dc8ab80074f",
   "metadata": {},
   "outputs": [
    {
     "name": "stdout",
     "output_type": "stream",
     "text": [
      "P-value: 0.09434977284243756\n"
     ]
    }
   ],
   "source": [
    "sample1 = [5, 10, 15, 20, 25]\n",
    "sample2 = [10, 20, 30, 40, 50]\n",
    "def perform_hypothesis_test(sample1:list[int], sample2:list[int])->float:\n",
    "    \"\"\"Takes 2 samples and performs a 2-sample hypothesis test\n",
    "    on them and returns the p-value of the hypothesis test\n",
    "\n",
    "    Args:\n",
    "        sample1 (list[int]): sample 1\n",
    "        sample2 (list[int]): sample 2\n",
    "    \n",
    "    return (float): p-value\n",
    "    \"\"\"\n",
    "    from scipy import stats\n",
    "    t_statistic , p_value = stats.ttest_ind(sample1, sample2)\n",
    "    return p_value\n",
    "    \n",
    "p_value = perform_hypothesis_test(sample1, sample2)\n",
    "print(\"P-value:\", p_value)"
   ]
  },
  {
   "cell_type": "code",
   "execution_count": null,
   "id": "e6fc7282-19c0-4539-9556-e0fc3fbbff56",
   "metadata": {},
   "outputs": [],
   "source": []
  }
 ],
 "metadata": {
  "kernelspec": {
   "display_name": "Python 3 (ipykernel)",
   "language": "python",
   "name": "python3"
  },
  "language_info": {
   "codemirror_mode": {
    "name": "ipython",
    "version": 3
   },
   "file_extension": ".py",
   "mimetype": "text/x-python",
   "name": "python",
   "nbconvert_exporter": "python",
   "pygments_lexer": "ipython3",
   "version": "3.10.8"
  }
 },
 "nbformat": 4,
 "nbformat_minor": 5
}
